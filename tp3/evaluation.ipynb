{
 "cells": [
  {
   "cell_type": "markdown",
   "metadata": {},
   "source": [
    "# Lab 1 Evaluation"
   ]
  },
  {
   "cell_type": "markdown",
   "metadata": {},
   "source": [
    "Names, Surnames, and Group : (to complete by 2 students)"
   ]
  },
  {
   "cell_type": "code",
   "execution_count": null,
   "metadata": {},
   "outputs": [],
   "source": [
    "Patrick Osornio, Elie de Gabriac , 4IR A1 , "
   ]
  },
  {
   "cell_type": "code",
   "execution_count": 2,
   "metadata": {},
   "outputs": [],
   "source": [
    "from sklearn.model_selection import cross_val_score\n",
    "from sklearn.model_selection import train_test_split\n",
    "from sklearn.metrics import confusion_matrix\n",
    "import csv\n",
    "import numpy as np\n",
    "from utils import load_from_csv\n",
    "from sklearn import tree\n",
    "from matplotlib import pyplot as plt # for a good visualization of the trees \n",
    "train_examples, train_labels, features, prediction = load_from_csv(\"./compass.csv\")\n"
   ]
  },
  {
   "cell_type": "markdown",
   "metadata": {},
   "source": [
    "In the following, we consider the  (binarized) Compas dataset that we studied in the Lab"
   ]
  },
  {
   "cell_type": "markdown",
   "metadata": {},
   "source": [
    "Q1: A decision tree configuration is a set of parameters that one can use to build decision trees. Propose 6 configurations that are likely to provide different topologies and caracteristics"
   ]
  },
  {
   "cell_type": "code",
   "execution_count": 3,
   "metadata": {},
   "outputs": [],
   "source": [
    "clftask1 = tree.DecisionTreeClassifier(splitter = \"best\", max_depth=1000, min_samples_leaf= 1)\n",
    "\n",
    "clftask2 = tree.DecisionTreeClassifier(splitter = \"random\", max_depth=1000, min_samples_leaf= 1)\n",
    "\n",
    "clftask3 = tree.DecisionTreeClassifier(splitter = \"best\", max_depth=10, min_samples_leaf= 1)\n",
    "\n",
    "clftask4 = tree.DecisionTreeClassifier(splitter = \"random\", max_depth=10, min_samples_leaf= 1)\n",
    "\n",
    "\n",
    "clftask5 = tree.DecisionTreeClassifier(splitter = \"best\", max_depth=1000, min_samples_leaf= 40)\n",
    "clftask6 = tree.DecisionTreeClassifier(splitter = \"random\", max_depth=1000, min_samples_leaf= 41)\n"
   ]
  },
  {
   "cell_type": "markdown",
   "metadata": {},
   "source": [
    "Q2: Train a decision tree for each of the previous configurations on the full dataset"
   ]
  },
  {
   "cell_type": "code",
   "execution_count": 4,
   "metadata": {},
   "outputs": [],
   "source": [
    "clftask1 = clftask1.fit(train_examples,train_labels)\n",
    "clftask2 = clftask2.fit(train_examples,train_labels)\n",
    "clftask3 = clftask3.fit(train_examples,train_labels)\n",
    "clftask4 = clftask4.fit(train_examples,train_labels)\n",
    "clftask5 = clftask5.fit(train_examples,train_labels)\n",
    "clftask6 = clftask6.fit(train_examples,train_labels)"
   ]
  },
  {
   "cell_type": "markdown",
   "metadata": {},
   "source": [
    "Q3: Propose an evaluation in terms of training and testing accuracies using $5$-cross validation on two decision trees that have different topologies"
   ]
  },
  {
   "cell_type": "code",
   "execution_count": 5,
   "metadata": {},
   "outputs": [],
   "source": [
    "scores1 = cross_val_score(clftask1, train_examples,train_labels, cv=5)\n",
    "scores2 = cross_val_score(clftask4, train_examples,train_labels, cv=5)\n"
   ]
  },
  {
   "cell_type": "markdown",
   "metadata": {},
   "source": [
    "Q4: Propose an experimental study that shows the transition phase from underfitting to overfitting "
   ]
  },
  {
   "cell_type": "code",
   "execution_count": null,
   "metadata": {},
   "outputs": [],
   "source": [
    "#pour passer du underfitting au overfitting, il suffit de modifier les parametres max_depth et:::\n",
    "#lorsque notre model a du underfitting on peut voire comment les scores augmentent lentement puis diminuent lorsque\n",
    "#max_depth devient trop grand/\n",
    "\n"
   ]
  },
  {
   "cell_type": "markdown",
   "metadata": {},
   "source": [
    "Q5: Construct the confusion matrix on a particular good configuration (after explaining your choice)"
   ]
  },
  {
   "cell_type": "code",
   "execution_count": null,
   "metadata": {},
   "outputs": [],
   "source": []
  },
  {
   "cell_type": "markdown",
   "metadata": {},
   "source": [
    "Q6: Provide an evaluation of the fairness of the model based on the False Positive Rate"
   ]
  },
  {
   "cell_type": "code",
   "execution_count": null,
   "metadata": {},
   "outputs": [],
   "source": [
    "#pour tester si l'algorithme est juste avec un groupe ethnique, on evalue sans prendre en compte l'ethnicité,\n",
    "#puis on prend le sample de ce groupe comme notre y_test.  "
   ]
  }
 ],
 "metadata": {
  "kernelspec": {
   "display_name": "Python 3 (ipykernel)",
   "language": "python",
   "name": "python3"
  },
  "language_info": {
   "codemirror_mode": {
    "name": "ipython",
    "version": 3
   },
   "file_extension": ".py",
   "mimetype": "text/x-python",
   "name": "python",
   "nbconvert_exporter": "python",
   "pygments_lexer": "ipython3",
   "version": "3.9.12"
  }
 },
 "nbformat": 4,
 "nbformat_minor": 4
}
